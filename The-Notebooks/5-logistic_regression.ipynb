{
 "cells": [
  {
   "cell_type": "markdown",
   "metadata": {},
   "source": [
    "## 5. Logistic Regression class implemented with NumPy - with AdaGrad \n",
    "The following code contains a logistic regression class that the functionality to optimise with gradient descent, AdaGrad and Newton's method.\n",
    "\n",
    "Below that is a demonstration of the class, applied to a simple dataset, and the benefits of the different optimisation methods."
   ]
  },
  {
   "cell_type": "code",
   "execution_count": 1,
   "metadata": {},
   "outputs": [],
   "source": [
    "import numpy as np\n",
    "from numpy.linalg import inv"
   ]
  },
  {
   "cell_type": "code",
   "execution_count": 2,
   "metadata": {},
   "outputs": [],
   "source": [
    "class LogisticRegression():\n",
    "    \"\"\"logistic regression class with gradient descent, AdaGrad and Newtons method\"\"\"\n",
    "    \n",
    "    def __init__(self):\n",
    "        \n",
    "        self.weights = []\n",
    "        self.loss = []\n",
    "        self.data = []\n",
    "        self.labels = []\n",
    "        self.h = []\n",
    "        \n",
    "    def sigmoid(self, x):\n",
    "        \n",
    "        return 1 / (1 + np.exp(-x))\n",
    "    \n",
    "    def logloss(self, w, x, y, n):\n",
    "        \"\"\"loss fucntion\"\"\"\n",
    "        \n",
    "        rho = 1e-5\n",
    "        h = self.sigmoid(x @ w)\n",
    "        loss = -(1/n) * ((y.T @ np.log(h + rho)) + ((1 - y).T @ np.log(1 - h + rho)))\n",
    "        return loss, h\n",
    "    \n",
    "    def adagrad(self, x, y, d, n, alpha, epochs):\n",
    "        \"\"\"adapts the step size based on scale of feature\"\"\"\n",
    "        \n",
    "        loss = np.zeros(epochs)\n",
    "        \n",
    "        eps = 1e-5\n",
    "        \n",
    "        #vector that stores sum of squared gradients for each dimention\n",
    "        z = np.zeros((d, 1))\n",
    "        \n",
    "        w = np.zeros((d, 1))\n",
    "        for i in range(epochs):\n",
    "            \n",
    "            #get gradient per dimention (no matrix multiplication - to keep dimentions separate)\n",
    "            hd = self.sigmoid(x * w.T)\n",
    "            dl = sum(x * (hd - y))[:, np.newaxis]\n",
    "            \n",
    "            #squared gradient per dimention\n",
    "            z += dl**2\n",
    "            \n",
    "            #step size scaled according to individual dimention gradients\n",
    "            w += - (1/n) * alpha * dl / np.sqrt(z + eps)\n",
    "        \n",
    "            loss[i], h = self.logloss(w, x, y, n)\n",
    "        \n",
    "        return w, h, loss\n",
    "    \n",
    "    def gradient_descent(self, x, y, d, n, alpha, epochs):\n",
    "        \"\"\"standard gradient descent method\"\"\"\n",
    "        \n",
    "        loss = np.zeros(epochs)\n",
    "        w = np.zeros((d, 1))\n",
    "        for i in range(epochs):\n",
    "            h = self.sigmoid(x @ w)\n",
    "            w += - (1/n) * alpha * (x.T @ (h - y))\n",
    "            \n",
    "            #keep track of logloss for plotting convergence\n",
    "            loss[i], h = self.logloss(w, x, y, n)\n",
    "        return w, h, loss\n",
    "    \n",
    "    def newton_descent(self, x, y, d, n, newtons):\n",
    "        \"\"\"Newton method for gradient descent, gives very quick concergence provided your relatively close\n",
    "        to the minima, otherwise it could diverge\"\"\"\n",
    "        \n",
    "        w = self.weights\n",
    "        for i in range(newtons):\n",
    "            \n",
    "            #calculate values for the diagonal matrix of the Hessian\n",
    "            scalars = self.sigmoid(x @ w) * (1 - self.sigmoid(x @ w))\n",
    "            D = np.diag(np.ravel(scalars))\n",
    "            \n",
    "            #calculate Hessian\n",
    "            H = x.T @ D @ x\n",
    "            \n",
    "            #get predictions and calculate step\n",
    "            h = self.sigmoid(x @ w)\n",
    "            dl = x.T @ (h - y)\n",
    "            w+= - inv(H) @ dl\n",
    "            \n",
    "            loss, h = self.logloss(w, x, y, n)\n",
    "            #appends loss to array containing loss from GD/Adagrad steps\n",
    "            self.loss = np.hstack((self.loss, np.ravel(loss)))\n",
    "            \n",
    "        self.weights = w\n",
    "        self.h = h\n",
    "        \n",
    "        return\n",
    "    \n",
    "    def train(self, data, labels, alpha=0.01, epochs=1000, adagrad=False, newtons=0):\n",
    "        \"\"\"accepts num_data by num_features array of training data and 1d array of labels\"\"\"\n",
    "        \n",
    "        n = len(labels)\n",
    "        x = np.hstack((data, np.ones((n, 1))))\n",
    "        d = np.size(x, 1)\n",
    "        y = labels[:, np.newaxis]\n",
    "        \n",
    "        #uses either adagrad or normal gradient descent to train model\n",
    "        if adagrad == True:\n",
    "            w, h, loss = self.adagrad(x, y, d, n, alpha, epochs)\n",
    "        \n",
    "        if adagrad == False:\n",
    "            w, h, loss = self.gradient_descent(x, y, d, n, alpha, epochs)\n",
    "        \n",
    "        self.weights = w\n",
    "        \n",
    "        #storing for plotting purposes\n",
    "        self.h = h\n",
    "        self.loss = loss\n",
    "        self.data = data\n",
    "        self.labels = labels\n",
    "\n",
    "        #option to do additional Newton steps for rapid convergence\n",
    "        if newtons > 0:\n",
    "            self.newton_descent(x, y, d, n, newtons)\n",
    "\n",
    "    def predict(self, data):\n",
    "        \"\"\"Returns results and corresponding probabilities\"\"\"\n",
    "        n = len(data)\n",
    "        x = np.hstack((data, np.ones((n, 1))))\n",
    "        \n",
    "        probs = self.sigmoid(x @ self.weights)\n",
    "        results = np.round(probs)\n",
    "        return results, probs\n",
    "    \n",
    "    def get_missclassified(self):\n",
    "        \"\"\"retrieves the missclassified points from the training data\"\"\"\n",
    "            \n",
    "        x = np.round(np.ravel(self.h)) - self.labels\n",
    "        return self.data[x != 0]\n",
    "    \n",
    "    def plot_boundary(self):\n",
    "        \"\"\"plots the training data and dividing boundary - for 2d data\"\"\"\n",
    "        \n",
    "        w = self.weights\n",
    "        #getting training data\n",
    "        x1 = self.data[self.labels == 0]\n",
    "        x2 = self.data[self.labels == 1]\n",
    "        \n",
    "        #getting x and y values for dividing line\n",
    "        x_vals = np.array([min(np.ravel(self.data)), max(np.ravel(self.data))])\n",
    "        y = -1 * ((w[0]*x_vals + w[2]) / w[1])\n",
    "        \n",
    "        fig, ax = plt.subplots()\n",
    "        \n",
    "        #plotting training data\n",
    "        ax.plot(x_vals, y, color='g')\n",
    "        ax.scatter(x1[:, 0], x1[:, 1], label='0')\n",
    "        ax.scatter(x2[:, 0], x2[:, 1], label='1')\n",
    "        \n",
    "        #getting and plotting miss-classified values\n",
    "        reds = self.get_missclassified()\n",
    "        if reds.size == 2:\n",
    "            ax.scatter(reds[0], reds[1], color='r', label='miss-classified')\n",
    "        if reds.size > 2:\n",
    "            ax.scatter(reds[:, 0], reds[:, 1], color='r', label='miss-classified')\n",
    "        \n",
    "        ax.set_xlabel('x1')\n",
    "        ax.set_ylabel('x2')\n",
    "        ax.set_xlim(min(self.data[:,0]) - 1, max(self.data[:,0]) + 1)\n",
    "        ax.set_ylim(min(self.data[:,1]) - 1, max(self.data[:,1]) + 1)\n",
    "        plt.legend()\n",
    "    \n",
    "    def plot_loss(self):\n",
    "        \"\"\"plots graph of loss vs epochs\"\"\"\n",
    "        \n",
    "        fig, ax = plt.subplots()\n",
    "        ax.plot(range(len(self.loss)), self.loss, color='r')\n",
    "        ax.set_xlabel('Epochs')\n",
    "        ax.set_ylabel('loss')\n",
    "    "
   ]
  },
  {
   "cell_type": "code",
   "execution_count": 3,
   "metadata": {},
   "outputs": [],
   "source": [
    "from sklearn.datasets import make_classification"
   ]
  },
  {
   "cell_type": "code",
   "execution_count": 4,
   "metadata": {},
   "outputs": [],
   "source": [
    "import matplotlib.pyplot as plt"
   ]
  },
  {
   "cell_type": "markdown",
   "metadata": {},
   "source": [
    "### Generating suitable test data"
   ]
  },
  {
   "cell_type": "code",
   "execution_count": 5,
   "metadata": {},
   "outputs": [],
   "source": [
    "X, y = make_classification(n_samples=100, n_features=2, n_informative=1, n_redundant=0, n_clusters_per_class = 1,\n",
    "                          random_state=14)"
   ]
  },
  {
   "cell_type": "code",
   "execution_count": 6,
   "metadata": {},
   "outputs": [
    {
     "data": {
      "text/plain": [
       "<matplotlib.collections.PathCollection at 0x1a1cde4e50>"
      ]
     },
     "execution_count": 6,
     "metadata": {},
     "output_type": "execute_result"
    },
    {
     "data": {
      "image/png": "[encoded data removed]",
      "text/plain": [
       "<Figure size 432x288 with 1 Axes>"
      ]
     },
     "metadata": {
      "needs_background": "light"
     },
     "output_type": "display_data"
    }
   ],
   "source": [
    "x1 = X[y == 0]\n",
    "x2 = X[y == 1]\n",
    "fig, ax = plt.subplots()\n",
    "ax.scatter(x1[:, 0], x1[:, 1])\n",
    "ax.scatter(x2[:, 0], x2[:, 1])"
   ]
  },
  {
   "cell_type": "markdown",
   "metadata": {},
   "source": [
    "### Test 1 - only gradient descent - 1000 epochs"
   ]
  },
  {
   "cell_type": "code",
   "execution_count": 7,
   "metadata": {},
   "outputs": [
    {
     "name": "stdout",
     "output_type": "stream",
     "text": [
      "96 %\n"
     ]
    }
   ],
   "source": [
    "model = LogisticRegression()\n",
    "\n",
    "model.train(X, y, epochs=1000)\n",
    "\n",
    "results, probs = model.predict(X)\n",
    "\n",
    "print(sum(results == y[:, np.newaxis])[0], '%')"
   ]
  },
  {
   "cell_type": "code",
   "execution_count": 8,
   "metadata": {},
   "outputs": [
    {
     "data": {
      "image/png": "[encoded data removed]",
      "text/plain": [
       "<Figure size 432x288 with 1 Axes>"
      ]
     },
     "metadata": {
      "needs_background": "light"
     },
     "output_type": "display_data"
    }
   ],
   "source": [
    "model.plot_boundary()"
   ]
  },
  {
   "cell_type": "markdown",
   "metadata": {},
   "source": [
    "##### Converges as expected"
   ]
  },
  {
   "cell_type": "code",
   "execution_count": 9,
   "metadata": {},
   "outputs": [
    {
     "data": {
      "image/png": "[encoded data removed]",
      "text/plain": [
       "<Figure size 432x288 with 1 Axes>"
      ]
     },
     "metadata": {
      "needs_background": "light"
     },
     "output_type": "display_data"
    }
   ],
   "source": [
    "model.plot_loss()"
   ]
  },
  {
   "cell_type": "code",
   "execution_count": 10,
   "metadata": {},
   "outputs": [
    {
     "data": {
      "text/plain": [
       "0.20097849738978021"
      ]
     },
     "execution_count": 10,
     "metadata": {},
     "output_type": "execute_result"
    }
   ],
   "source": [
    "model.loss[-1]"
   ]
  },
  {
   "cell_type": "markdown",
   "metadata": {},
   "source": [
    "### Test 2 - gradient descent and Newton's method - 200 GD steps then 3 Newton steps "
   ]
  },
  {
   "cell_type": "code",
   "execution_count": 11,
   "metadata": {},
   "outputs": [
    {
     "name": "stdout",
     "output_type": "stream",
     "text": [
      "97 %\n"
     ]
    }
   ],
   "source": [
    "model = LogisticRegression()\n",
    "\n",
    "model.train(X, y, epochs=200, newtons=3)\n",
    "\n",
    "results, probs = model.predict(X)\n",
    "\n",
    "print(sum(results == y[:, np.newaxis])[0], '%')"
   ]
  },
  {
   "cell_type": "code",
   "execution_count": 12,
   "metadata": {},
   "outputs": [
    {
     "data": {
      "image/png": "[encoded data removed]",
      "text/plain": [
       "<Figure size 432x288 with 1 Axes>"
      ]
     },
     "metadata": {
      "needs_background": "light"
     },
     "output_type": "display_data"
    }
   ],
   "source": [
    "model.plot_boundary()"
   ]
  },
  {
   "cell_type": "markdown",
   "metadata": {},
   "source": [
    "##### using newtons method drastically increases convergence time"
   ]
  },
  {
   "cell_type": "code",
   "execution_count": 13,
   "metadata": {},
   "outputs": [
    {
     "data": {
      "image/png": "[encoded data removed]",
      "text/plain": [
       "<Figure size 432x288 with 1 Axes>"
      ]
     },
     "metadata": {
      "needs_background": "light"
     },
     "output_type": "display_data"
    }
   ],
   "source": [
    "model.plot_loss()"
   ]
  },
  {
   "cell_type": "code",
   "execution_count": 14,
   "metadata": {},
   "outputs": [
    {
     "data": {
      "text/plain": [
       "0.11102086635097262"
      ]
     },
     "execution_count": 14,
     "metadata": {},
     "output_type": "execute_result"
    }
   ],
   "source": [
    "model.loss[-1]"
   ]
  },
  {
   "cell_type": "markdown",
   "metadata": {},
   "source": [
    "### Test 3 - scaling x axis data by 100x to see the benefits of adagrad"
   ]
  },
  {
   "cell_type": "code",
   "execution_count": 15,
   "metadata": {},
   "outputs": [
    {
     "data": {
      "text/plain": [
       "<matplotlib.collections.PathCollection at 0x1a1d7e8d90>"
      ]
     },
     "execution_count": 15,
     "metadata": {},
     "output_type": "execute_result"
    },
    {
     "data": {
      "image/png": "[encoded data removed]",
      "text/plain": [
       "<Figure size 432x288 with 1 Axes>"
      ]
     },
     "metadata": {
      "needs_background": "light"
     },
     "output_type": "display_data"
    }
   ],
   "source": [
    "Xa = X * [100, 1]\n",
    "\n",
    "xa1 = Xa[y == 0]\n",
    "xa2 = Xa[y == 1]\n",
    "fig, ax = plt.subplots()\n",
    "ax.scatter(xa1[:, 0], xa1[:, 1])\n",
    "ax.scatter(xa2[:, 0], xa2[:, 1])"
   ]
  },
  {
   "cell_type": "code",
   "execution_count": 16,
   "metadata": {},
   "outputs": [
    {
     "name": "stdout",
     "output_type": "stream",
     "text": [
      "61 %\n"
     ]
    }
   ],
   "source": [
    "model = LogisticRegression()\n",
    "\n",
    "model.train(Xa, y, epochs=2000)\n",
    "\n",
    "results, probs = model.predict(Xa)\n",
    "\n",
    "print(sum(results == y[:, np.newaxis])[0], '%')"
   ]
  },
  {
   "cell_type": "code",
   "execution_count": 17,
   "metadata": {},
   "outputs": [
    {
     "data": {
      "image/png": "[encoded data removed]",
      "text/plain": [
       "<Figure size 432x288 with 1 Axes>"
      ]
     },
     "metadata": {
      "needs_background": "light"
     },
     "output_type": "display_data"
    }
   ],
   "source": [
    "model.plot_boundary()"
   ]
  },
  {
   "cell_type": "markdown",
   "metadata": {},
   "source": [
    "##### Using standard gradient descent it struggles to converge due to the different scales of the data features"
   ]
  },
  {
   "cell_type": "code",
   "execution_count": 18,
   "metadata": {},
   "outputs": [
    {
     "data": {
      "image/png": "[encoded data removed]",
      "text/plain": [
       "<Figure size 432x288 with 1 Axes>"
      ]
     },
     "metadata": {
      "needs_background": "light"
     },
     "output_type": "display_data"
    }
   ],
   "source": [
    "model.plot_loss()"
   ]
  },
  {
   "cell_type": "code",
   "execution_count": 19,
   "metadata": {},
   "outputs": [
    {
     "data": {
      "text/plain": [
       "3.079756337070952"
      ]
     },
     "execution_count": 19,
     "metadata": {},
     "output_type": "execute_result"
    }
   ],
   "source": [
    "model.loss[-1]"
   ]
  },
  {
   "cell_type": "markdown",
   "metadata": {},
   "source": [
    "#### AdaGrad - setting alpha to 1 and letting the adagrad method take care of the scaling"
   ]
  },
  {
   "cell_type": "code",
   "execution_count": 20,
   "metadata": {},
   "outputs": [
    {
     "name": "stdout",
     "output_type": "stream",
     "text": [
      "94 %\n"
     ]
    }
   ],
   "source": [
    "model = LogisticRegression()\n",
    "\n",
    "model.train(Xa, y, epochs=1500, adagrad=True, alpha=1)\n",
    "\n",
    "results, probs = model.predict(Xa)\n",
    "\n",
    "print(sum(results == y[:, np.newaxis])[0], '%')"
   ]
  },
  {
   "cell_type": "code",
   "execution_count": 21,
   "metadata": {},
   "outputs": [
    {
     "data": {
      "image/png": "[encoded data removed]",
      "text/plain": [
       "<Figure size 432x288 with 1 Axes>"
      ]
     },
     "metadata": {
      "needs_background": "light"
     },
     "output_type": "display_data"
    }
   ],
   "source": [
    "model.plot_boundary()"
   ]
  },
  {
   "cell_type": "markdown",
   "metadata": {},
   "source": [
    "##### converges as expected, unaffected by the differently scaled data"
   ]
  },
  {
   "cell_type": "code",
   "execution_count": 22,
   "metadata": {},
   "outputs": [
    {
     "data": {
      "image/png": "[encoded data removed]",
      "text/plain": [
       "<Figure size 432x288 with 1 Axes>"
      ]
     },
     "metadata": {
      "needs_background": "light"
     },
     "output_type": "display_data"
    }
   ],
   "source": [
    "model.plot_loss()"
   ]
  },
  {
   "cell_type": "code",
   "execution_count": 23,
   "metadata": {},
   "outputs": [
    {
     "data": {
      "text/plain": [
       "0.41662538949845784"
      ]
     },
     "execution_count": 23,
     "metadata": {},
     "output_type": "execute_result"
    }
   ],
   "source": [
    "model.loss[-1]"
   ]
  },
  {
   "cell_type": "markdown",
   "metadata": {},
   "source": [
    "##### Newtons method still works and converges very quickly"
   ]
  },
  {
   "cell_type": "code",
   "execution_count": 24,
   "metadata": {},
   "outputs": [
    {
     "name": "stdout",
     "output_type": "stream",
     "text": [
      "97 %\n"
     ]
    }
   ],
   "source": [
    "model = LogisticRegression()\n",
    "\n",
    "model.train(Xa, y, epochs=100, adagrad=True, alpha=1, newtons=3)\n",
    "\n",
    "results, probs = model.predict(Xa)\n",
    "\n",
    "print(sum(results == y[:, np.newaxis])[0], '%')"
   ]
  },
  {
   "cell_type": "code",
   "execution_count": 25,
   "metadata": {},
   "outputs": [
    {
     "data": {
      "image/png": "[encoded data removed]",
      "text/plain": [
       "<Figure size 432x288 with 1 Axes>"
      ]
     },
     "metadata": {
      "needs_background": "light"
     },
     "output_type": "display_data"
    }
   ],
   "source": [
    "model.plot_boundary()"
   ]
  },
  {
   "cell_type": "code",
   "execution_count": 26,
   "metadata": {},
   "outputs": [
    {
     "data": {
      "image/png": "[encoded data removed]",
      "text/plain": [
       "<Figure size 432x288 with 1 Axes>"
      ]
     },
     "metadata": {
      "needs_background": "light"
     },
     "output_type": "display_data"
    }
   ],
   "source": [
    "model.plot_loss()"
   ]
  },
  {
   "cell_type": "code",
   "execution_count": 27,
   "metadata": {},
   "outputs": [
    {
     "data": {
      "text/plain": [
       "0.11847411512978853"
      ]
     },
     "execution_count": 27,
     "metadata": {},
     "output_type": "execute_result"
    }
   ],
   "source": [
    "model.loss[-1]"
   ]
  }
 ],
 "metadata": {
  "kernelspec": {
   "display_name": "Python 3",
   "language": "python",
   "name": "python3"
  },
  "language_info": {
   "codemirror_mode": {
    "name": "ipython",
    "version": 3
   },
   "file_extension": ".py",
   "mimetype": "text/x-python",
   "name": "python",
   "nbconvert_exporter": "python",
   "pygments_lexer": "ipython3",
   "version": "3.7.6"
  }
 },
 "nbformat": 4,
 "nbformat_minor": 4
}

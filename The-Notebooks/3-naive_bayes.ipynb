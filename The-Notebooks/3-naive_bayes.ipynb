{
 "cells": [
  {
   "cell_type": "markdown",
   "metadata": {},
   "source": [
    "## 3. Naive Bayes class implemented with NumPy - for continuous/discrete data\n",
    "The following code contains a naive bayes class that can accept both continuous and discrete data, and a demonstration of its use on a simple dataset."
   ]
  },
  {
   "cell_type": "code",
   "execution_count": 1,
   "metadata": {},
   "outputs": [],
   "source": [
    "import numpy as np"
   ]
  },
  {
   "cell_type": "code",
   "execution_count": 2,
   "metadata": {},
   "outputs": [],
   "source": [
    "class NaiveBayes():\n",
    "    \"\"\"Naive bayes class that accepts both continous and discrete data\"\"\"\n",
    "    \n",
    "    def __init__(self):\n",
    "        \n",
    "        self.priors = []\n",
    "        self.means = []\n",
    "        self.stds = []\n",
    "        \n",
    "        self.train_disc_probs = []\n",
    "    \n",
    "    def train(self, cont_data, disc_data, labels):\n",
    "        \"\"\"accepts continuous and/or discrete data as a numpy array and array of corresponding \n",
    "        integer class labels starting at zero, pass [] if only training one of discrete/continuous data\"\"\"\n",
    "        \n",
    "        #train model based on discreate and/or continous normally distributed data\n",
    "        if len(cont_data) != 0:\n",
    "            self.train_cont(cont_data, labels)\n",
    "        if len(disc_data) != 0:\n",
    "            self.train_disc(disc_data, labels)\n",
    "    \n",
    "    def train_cont(self, data, labels):\n",
    "        \"\"\"to be called by the 'train' method to train the model on the continuous data features,\n",
    "        accepts np array of data and array of interger labels starting at zero,\n",
    "        finds the mean and sd for each variable in each class\"\"\"\n",
    "        \n",
    "        n = len(data)\n",
    "        classes = np.unique(labels)\n",
    "        \n",
    "        priors = []\n",
    "        \n",
    "        #calculate mean and std for each class\n",
    "        for c in classes:\n",
    "            group = data[labels == c]\n",
    "            self.means.append(group.mean(axis=0))\n",
    "            self.stds.append(group.std(axis=0))\n",
    "            priors.append(np.log(len(group) / n))\n",
    "        \n",
    "        #priors only necessary if they havn't already been calculated by train_disc method\n",
    "        if self.priors == []:\n",
    "            self.priors.extend(priors)\n",
    "        return\n",
    "\n",
    "    def predict_cont(self, test_data):\n",
    "        \"\"\"returns probaility based on gaussian dist. of a data point belonging to each class\"\"\"\n",
    "        \n",
    "        probs = []\n",
    "        \n",
    "        #calculates the log probability of each test point belonging to each class\n",
    "        for x in test_data:\n",
    "            for i in range(len(self.priors)):  #len(self.priors) gives number of classes\n",
    "                p = (1/(self.stds[i]*((2*np.pi)**(1/2))))*np.exp(-0.5*(((x - self.means[i])/self.stds[i])**2))\n",
    "                probs.append(sum(np.log(p)))\n",
    "            \n",
    "        #returns num_data points by num_classes array of probabilities\n",
    "        cont_probs = np.array(probs).reshape(len(test_data), len(self.priors))  \n",
    "        return cont_probs\n",
    "    \n",
    "    def train_disc(self, data, labels):\n",
    "        \"\"\"to be called by 'train' method, accepts numpy array of discrete training data with [1, 0] values,\n",
    "        and an array of integer class labels starting at zero, \n",
    "        finds probility of each variable being true(1) given class\"\"\"\n",
    "        \n",
    "        n = len(data)\n",
    "        classes = np.unique(labels)\n",
    "        \n",
    "        priors = []\n",
    "        for c in classes:\n",
    "            group = data[labels == c]\n",
    "            \n",
    "            #sum of true(1) counts in each class\n",
    "            tally = group.sum(axis=0)\n",
    "            \n",
    "            #calculate probability of dimention being true(1) given class with plus one smoothing\n",
    "            train_prob = (tally + 1) / (len(group) + 2)\n",
    "            self.train_disc_probs.append(train_prob)\n",
    "            priors.append(np.log(len(group / n)))\n",
    "        \n",
    "        #only necessary if not already calculated by train_cont method\n",
    "        if self.priors == []:\n",
    "            self.priors.extend(priors)\n",
    "        return\n",
    "        \n",
    "    def predict_disc(self, test_data):\n",
    "        \"\"\"returns probability of a data point belonging to each class\"\"\"\n",
    "        \n",
    "        probs = []\n",
    "        for x in test_data:\n",
    "            for i in range(len(self.priors)):  #len(self.priors) gives number of classes\n",
    "                \n",
    "                #get probabilities for corresponding true(1), false(0) values in test point\n",
    "                on = self.train_disc_probs[i][x == 1]\n",
    "                off = self.train_disc_probs[i][x == 0]\n",
    "                \n",
    "                #if-elif incase all dimentions are true(1)/false(0)\n",
    "                #sums the log probabilities for each class\n",
    "                if on.size == 0:\n",
    "                    p = sum(np.log(1 - off))\n",
    "                elif off.size == 0:\n",
    "                    p = sum(np.log(on))\n",
    "                else:\n",
    "                    p = sum(np.log(on)) + sum(np.log(1 - off))\n",
    "                probs.append(p)\n",
    "        \n",
    "        #returns num_data points by num_classes array of probabilities\n",
    "        disc_probs = np.array(probs).reshape(len(test_data), len(self.priors))\n",
    "        return disc_probs\n",
    "    \n",
    "    def predict(self, cont_test_data, disc_test_data):\n",
    "        \"\"\"accepts numpy array of data without labels for discrete and/or continuos data ,\n",
    "        pass [] if not requiring both\"\"\"\n",
    "        \n",
    "        #get predictions for data containing discrete and/or continuous data\n",
    "        if len(cont_test_data) != 0:\n",
    "            cont_probs = self.predict_cont(cont_test_data)\n",
    "            predictions = np.argmax((cont_probs + self.priors), axis=1)\n",
    "        elif len(disc_test_data) != 0:\n",
    "            disc_probs = self.predict_disc(disc_test_data)\n",
    "            predictions = np.argmax((disc_probs + self.priors), axis=1)\n",
    "        else:\n",
    "            cont_probs = self.predict_cont(cont_test_data)\n",
    "            disc_probs = self.predict_disc(disc_test_data)\n",
    "            predictions = np.argmax((cont_probs + disc_probs + self.priors), axis=1)\n",
    "        \n",
    "        return predictions\n",
    "                \n",
    "    \n",
    "    \n",
    "    def accuracy(self, predictions, test_labels):\n",
    "        acc = sum(predictions == test_labels) / len(test_labels)\n",
    "        \n",
    "        return print('{0:.2f}'.format(acc * 100) + '%')\n"
   ]
  },
  {
   "cell_type": "markdown",
   "metadata": {},
   "source": [
    "# test 1\n",
    "### only  continuous data\n",
    "data prep"
   ]
  },
  {
   "cell_type": "code",
   "execution_count": 3,
   "metadata": {},
   "outputs": [],
   "source": [
    "import pandas as pd"
   ]
  },
  {
   "cell_type": "code",
   "execution_count": 4,
   "metadata": {},
   "outputs": [],
   "source": [
    "iris_data = pd.read_csv('iris.csv', names=['sepal l', 'sepal w', 'petal l', 'petal w', 'class'], index_col=False)"
   ]
  },
  {
   "cell_type": "code",
   "execution_count": 5,
   "metadata": {},
   "outputs": [],
   "source": [
    "train_sample = iris_data.sample(120)"
   ]
  },
  {
   "cell_type": "code",
   "execution_count": 6,
   "metadata": {},
   "outputs": [],
   "source": [
    "a = set(iris_data.index)\n",
    "b = set(train_sample.index)\n",
    "c = a.difference(b)\n",
    "\n",
    "test_sample = iris_data.reindex(c)"
   ]
  },
  {
   "cell_type": "code",
   "execution_count": 7,
   "metadata": {},
   "outputs": [
    {
     "data": {
      "text/html": [
       "<div>\n",
       "<style scoped>\n",
       "    .dataframe tbody tr th:only-of-type {\n",
       "        vertical-align: middle;\n",
       "    }\n",
       "\n",
       "    .dataframe tbody tr th {\n",
       "        vertical-align: top;\n",
       "    }\n",
       "\n",
       "    .dataframe thead th {\n",
       "        text-align: right;\n",
       "    }\n",
       "</style>\n",
       "<table border=\"1\" class=\"dataframe\">\n",
       "  <thead>\n",
       "    <tr style=\"text-align: right;\">\n",
       "      <th></th>\n",
       "      <th>sepal l</th>\n",
       "      <th>sepal w</th>\n",
       "      <th>petal l</th>\n",
       "      <th>petal w</th>\n",
       "      <th>class</th>\n",
       "    </tr>\n",
       "  </thead>\n",
       "  <tbody>\n",
       "    <tr>\n",
       "      <th>106</th>\n",
       "      <td>4.9</td>\n",
       "      <td>2.5</td>\n",
       "      <td>4.5</td>\n",
       "      <td>1.7</td>\n",
       "      <td>Iris-virginica</td>\n",
       "    </tr>\n",
       "    <tr>\n",
       "      <th>30</th>\n",
       "      <td>4.8</td>\n",
       "      <td>3.1</td>\n",
       "      <td>1.6</td>\n",
       "      <td>0.2</td>\n",
       "      <td>Iris-setosa</td>\n",
       "    </tr>\n",
       "    <tr>\n",
       "      <th>3</th>\n",
       "      <td>4.6</td>\n",
       "      <td>3.1</td>\n",
       "      <td>1.5</td>\n",
       "      <td>0.2</td>\n",
       "      <td>Iris-setosa</td>\n",
       "    </tr>\n",
       "    <tr>\n",
       "      <th>16</th>\n",
       "      <td>5.4</td>\n",
       "      <td>3.9</td>\n",
       "      <td>1.3</td>\n",
       "      <td>0.4</td>\n",
       "      <td>Iris-setosa</td>\n",
       "    </tr>\n",
       "    <tr>\n",
       "      <th>54</th>\n",
       "      <td>6.5</td>\n",
       "      <td>2.8</td>\n",
       "      <td>4.6</td>\n",
       "      <td>1.5</td>\n",
       "      <td>Iris-versicolor</td>\n",
       "    </tr>\n",
       "    <tr>\n",
       "      <th>...</th>\n",
       "      <td>...</td>\n",
       "      <td>...</td>\n",
       "      <td>...</td>\n",
       "      <td>...</td>\n",
       "      <td>...</td>\n",
       "    </tr>\n",
       "    <tr>\n",
       "      <th>94</th>\n",
       "      <td>5.6</td>\n",
       "      <td>2.7</td>\n",
       "      <td>4.2</td>\n",
       "      <td>1.3</td>\n",
       "      <td>Iris-versicolor</td>\n",
       "    </tr>\n",
       "    <tr>\n",
       "      <th>55</th>\n",
       "      <td>5.7</td>\n",
       "      <td>2.8</td>\n",
       "      <td>4.5</td>\n",
       "      <td>1.3</td>\n",
       "      <td>Iris-versicolor</td>\n",
       "    </tr>\n",
       "    <tr>\n",
       "      <th>93</th>\n",
       "      <td>5.0</td>\n",
       "      <td>2.3</td>\n",
       "      <td>3.3</td>\n",
       "      <td>1.0</td>\n",
       "      <td>Iris-versicolor</td>\n",
       "    </tr>\n",
       "    <tr>\n",
       "      <th>33</th>\n",
       "      <td>5.5</td>\n",
       "      <td>4.2</td>\n",
       "      <td>1.4</td>\n",
       "      <td>0.2</td>\n",
       "      <td>Iris-setosa</td>\n",
       "    </tr>\n",
       "    <tr>\n",
       "      <th>63</th>\n",
       "      <td>6.1</td>\n",
       "      <td>2.9</td>\n",
       "      <td>4.7</td>\n",
       "      <td>1.4</td>\n",
       "      <td>Iris-versicolor</td>\n",
       "    </tr>\n",
       "  </tbody>\n",
       "</table>\n",
       "<p>120 rows × 5 columns</p>\n",
       "</div>"
      ],
      "text/plain": [
       "     sepal l  sepal w  petal l  petal w            class\n",
       "106      4.9      2.5      4.5      1.7   Iris-virginica\n",
       "30       4.8      3.1      1.6      0.2      Iris-setosa\n",
       "3        4.6      3.1      1.5      0.2      Iris-setosa\n",
       "16       5.4      3.9      1.3      0.4      Iris-setosa\n",
       "54       6.5      2.8      4.6      1.5  Iris-versicolor\n",
       "..       ...      ...      ...      ...              ...\n",
       "94       5.6      2.7      4.2      1.3  Iris-versicolor\n",
       "55       5.7      2.8      4.5      1.3  Iris-versicolor\n",
       "93       5.0      2.3      3.3      1.0  Iris-versicolor\n",
       "33       5.5      4.2      1.4      0.2      Iris-setosa\n",
       "63       6.1      2.9      4.7      1.4  Iris-versicolor\n",
       "\n",
       "[120 rows x 5 columns]"
      ]
     },
     "execution_count": 7,
     "metadata": {},
     "output_type": "execute_result"
    }
   ],
   "source": [
    "train_sample"
   ]
  },
  {
   "cell_type": "code",
   "execution_count": 8,
   "metadata": {},
   "outputs": [],
   "source": [
    "train_data = train_sample.iloc[:, :-1].to_numpy()"
   ]
  },
  {
   "cell_type": "code",
   "execution_count": 9,
   "metadata": {},
   "outputs": [],
   "source": [
    "train_labels = train_sample.iloc[:, -1]"
   ]
  },
  {
   "cell_type": "code",
   "execution_count": 10,
   "metadata": {},
   "outputs": [],
   "source": [
    "mapping = {'Iris-setosa': 0, 'Iris-virginica': 1, 'Iris-versicolor': 2}"
   ]
  },
  {
   "cell_type": "code",
   "execution_count": 11,
   "metadata": {},
   "outputs": [],
   "source": [
    "train_labels = train_labels.map(mapping).to_numpy()"
   ]
  },
  {
   "cell_type": "code",
   "execution_count": 12,
   "metadata": {},
   "outputs": [],
   "source": [
    "test_data = test_sample.iloc[:, :-1].to_numpy()"
   ]
  },
  {
   "cell_type": "code",
   "execution_count": 13,
   "metadata": {},
   "outputs": [],
   "source": [
    "test_labels = test_sample.iloc[:, -1].map(mapping).to_numpy()"
   ]
  },
  {
   "cell_type": "markdown",
   "metadata": {},
   "source": [
    "##### model test"
   ]
  },
  {
   "cell_type": "code",
   "execution_count": 14,
   "metadata": {},
   "outputs": [],
   "source": [
    "model = NaiveBayes()"
   ]
  },
  {
   "cell_type": "code",
   "execution_count": 15,
   "metadata": {},
   "outputs": [],
   "source": [
    "model.train(train_data, [], train_labels)"
   ]
  },
  {
   "cell_type": "code",
   "execution_count": 16,
   "metadata": {},
   "outputs": [],
   "source": [
    "preds = model.predict(test_data, [])"
   ]
  },
  {
   "cell_type": "code",
   "execution_count": 17,
   "metadata": {},
   "outputs": [
    {
     "name": "stdout",
     "output_type": "stream",
     "text": [
      "93.33%\n"
     ]
    }
   ],
   "source": [
    "model.accuracy(preds, test_labels)"
   ]
  },
  {
   "cell_type": "markdown",
   "metadata": {},
   "source": [
    "# test 2\n",
    "### continuous and discrete data\n",
    "data prep"
   ]
  },
  {
   "cell_type": "code",
   "execution_count": 18,
   "metadata": {},
   "outputs": [
    {
     "data": {
      "text/plain": [
       "50"
      ]
     },
     "execution_count": 18,
     "metadata": {},
     "output_type": "execute_result"
    }
   ],
   "source": [
    "len(iris_data[iris_data['class'] == 'Iris-setosa'])"
   ]
  },
  {
   "cell_type": "code",
   "execution_count": 19,
   "metadata": {},
   "outputs": [
    {
     "data": {
      "text/plain": [
       "50"
      ]
     },
     "execution_count": 19,
     "metadata": {},
     "output_type": "execute_result"
    }
   ],
   "source": [
    "len(iris_data[iris_data['class'] == 'Iris-versicolor'])"
   ]
  },
  {
   "cell_type": "code",
   "execution_count": 20,
   "metadata": {},
   "outputs": [
    {
     "data": {
      "text/plain": [
       "50"
      ]
     },
     "execution_count": 20,
     "metadata": {},
     "output_type": "execute_result"
    }
   ],
   "source": [
    "len(iris_data[iris_data['class'] == 'Iris-virginica'])"
   ]
  },
  {
   "cell_type": "markdown",
   "metadata": {},
   "source": [
    "##### adding discrete data that shouldn't affect outcome \n",
    "will give: 1st class 75% 1, 2nd class 50% 1 and 3rd class 25% 1, so that each class has a different proportion of 1s by which to differentiate them from each other."
   ]
  },
  {
   "cell_type": "code",
   "execution_count": 21,
   "metadata": {},
   "outputs": [],
   "source": [
    "d = np.array([1, 1, 1, 0])\n",
    "e = np.array([0, 0, 1, 1])\n",
    "f = np.array([0, 0, 0, 1])"
   ]
  },
  {
   "cell_type": "code",
   "execution_count": 22,
   "metadata": {},
   "outputs": [],
   "source": [
    "high = np.random.choice(d, 50, replace=True)"
   ]
  },
  {
   "cell_type": "code",
   "execution_count": 23,
   "metadata": {},
   "outputs": [],
   "source": [
    "mid = np.random.choice(e, 50, replace=True)"
   ]
  },
  {
   "cell_type": "code",
   "execution_count": 24,
   "metadata": {},
   "outputs": [],
   "source": [
    "low = np.random.choice(f, 50, replace=True)"
   ]
  },
  {
   "cell_type": "code",
   "execution_count": 25,
   "metadata": {},
   "outputs": [],
   "source": [
    "discrete = np.hstack((high, mid, low))"
   ]
  },
  {
   "cell_type": "code",
   "execution_count": 26,
   "metadata": {},
   "outputs": [],
   "source": [
    "iris_data['disc'] = discrete"
   ]
  },
  {
   "cell_type": "code",
   "execution_count": 27,
   "metadata": {},
   "outputs": [],
   "source": [
    "iris_data = iris_data.iloc[:, [0, 1, 2, 3, 5, 4]]"
   ]
  },
  {
   "cell_type": "code",
   "execution_count": 28,
   "metadata": {},
   "outputs": [
    {
     "data": {
      "text/html": [
       "<div>\n",
       "<style scoped>\n",
       "    .dataframe tbody tr th:only-of-type {\n",
       "        vertical-align: middle;\n",
       "    }\n",
       "\n",
       "    .dataframe tbody tr th {\n",
       "        vertical-align: top;\n",
       "    }\n",
       "\n",
       "    .dataframe thead th {\n",
       "        text-align: right;\n",
       "    }\n",
       "</style>\n",
       "<table border=\"1\" class=\"dataframe\">\n",
       "  <thead>\n",
       "    <tr style=\"text-align: right;\">\n",
       "      <th></th>\n",
       "      <th>sepal l</th>\n",
       "      <th>sepal w</th>\n",
       "      <th>petal l</th>\n",
       "      <th>petal w</th>\n",
       "      <th>disc</th>\n",
       "      <th>class</th>\n",
       "    </tr>\n",
       "  </thead>\n",
       "  <tbody>\n",
       "    <tr>\n",
       "      <th>0</th>\n",
       "      <td>5.1</td>\n",
       "      <td>3.5</td>\n",
       "      <td>1.4</td>\n",
       "      <td>0.2</td>\n",
       "      <td>1</td>\n",
       "      <td>Iris-setosa</td>\n",
       "    </tr>\n",
       "    <tr>\n",
       "      <th>1</th>\n",
       "      <td>4.9</td>\n",
       "      <td>3.0</td>\n",
       "      <td>1.4</td>\n",
       "      <td>0.2</td>\n",
       "      <td>1</td>\n",
       "      <td>Iris-setosa</td>\n",
       "    </tr>\n",
       "    <tr>\n",
       "      <th>2</th>\n",
       "      <td>4.7</td>\n",
       "      <td>3.2</td>\n",
       "      <td>1.3</td>\n",
       "      <td>0.2</td>\n",
       "      <td>1</td>\n",
       "      <td>Iris-setosa</td>\n",
       "    </tr>\n",
       "    <tr>\n",
       "      <th>3</th>\n",
       "      <td>4.6</td>\n",
       "      <td>3.1</td>\n",
       "      <td>1.5</td>\n",
       "      <td>0.2</td>\n",
       "      <td>1</td>\n",
       "      <td>Iris-setosa</td>\n",
       "    </tr>\n",
       "    <tr>\n",
       "      <th>4</th>\n",
       "      <td>5.0</td>\n",
       "      <td>3.6</td>\n",
       "      <td>1.4</td>\n",
       "      <td>0.2</td>\n",
       "      <td>1</td>\n",
       "      <td>Iris-setosa</td>\n",
       "    </tr>\n",
       "  </tbody>\n",
       "</table>\n",
       "</div>"
      ],
      "text/plain": [
       "   sepal l  sepal w  petal l  petal w  disc        class\n",
       "0      5.1      3.5      1.4      0.2     1  Iris-setosa\n",
       "1      4.9      3.0      1.4      0.2     1  Iris-setosa\n",
       "2      4.7      3.2      1.3      0.2     1  Iris-setosa\n",
       "3      4.6      3.1      1.5      0.2     1  Iris-setosa\n",
       "4      5.0      3.6      1.4      0.2     1  Iris-setosa"
      ]
     },
     "execution_count": 28,
     "metadata": {},
     "output_type": "execute_result"
    }
   ],
   "source": [
    "iris_data.head() #same data with added discrete dimention"
   ]
  },
  {
   "cell_type": "code",
   "execution_count": 29,
   "metadata": {},
   "outputs": [],
   "source": [
    "train_sample = iris_data.sample(120)"
   ]
  },
  {
   "cell_type": "code",
   "execution_count": 30,
   "metadata": {},
   "outputs": [],
   "source": [
    "a = set(iris_data.index)\n",
    "b = set(train_sample.index)\n",
    "c = a.difference(b)\n",
    "\n",
    "test_sample = iris_data.reindex(c)"
   ]
  },
  {
   "cell_type": "code",
   "execution_count": 31,
   "metadata": {},
   "outputs": [],
   "source": [
    "train_data_cont = train_sample.iloc[:, :-2].to_numpy()"
   ]
  },
  {
   "cell_type": "code",
   "execution_count": 32,
   "metadata": {},
   "outputs": [],
   "source": [
    "train_data_disc = train_sample.iloc[:, -2].to_numpy()"
   ]
  },
  {
   "cell_type": "code",
   "execution_count": 33,
   "metadata": {},
   "outputs": [],
   "source": [
    "train_labels = train_sample.iloc[:, -1]"
   ]
  },
  {
   "cell_type": "code",
   "execution_count": 34,
   "metadata": {},
   "outputs": [],
   "source": [
    "mapping = {'Iris-setosa': 0, 'Iris-virginica': 1, 'Iris-versicolor': 2}"
   ]
  },
  {
   "cell_type": "code",
   "execution_count": 35,
   "metadata": {},
   "outputs": [],
   "source": [
    "train_labels = train_labels.map(mapping).to_numpy()"
   ]
  },
  {
   "cell_type": "code",
   "execution_count": 36,
   "metadata": {},
   "outputs": [],
   "source": [
    "test_data_cont = test_sample.iloc[:, :-2].to_numpy()"
   ]
  },
  {
   "cell_type": "code",
   "execution_count": 37,
   "metadata": {},
   "outputs": [],
   "source": [
    "test_data_disc = test_sample.iloc[:, -2].to_numpy()"
   ]
  },
  {
   "cell_type": "code",
   "execution_count": 38,
   "metadata": {},
   "outputs": [],
   "source": [
    "test_labels = test_sample.iloc[:, -1].map(mapping).to_numpy()"
   ]
  },
  {
   "cell_type": "markdown",
   "metadata": {},
   "source": [
    "##### model test\n",
    "When given both discrete and continuous data the model still works as expected"
   ]
  },
  {
   "cell_type": "code",
   "execution_count": 39,
   "metadata": {},
   "outputs": [],
   "source": [
    "model = NaiveBayes()"
   ]
  },
  {
   "cell_type": "code",
   "execution_count": 40,
   "metadata": {},
   "outputs": [],
   "source": [
    "model.train(train_data_cont, train_data_disc, train_labels)"
   ]
  },
  {
   "cell_type": "code",
   "execution_count": 41,
   "metadata": {},
   "outputs": [],
   "source": [
    "pred = model.predict(test_data_cont, test_data_disc)"
   ]
  },
  {
   "cell_type": "code",
   "execution_count": 42,
   "metadata": {},
   "outputs": [
    {
     "name": "stdout",
     "output_type": "stream",
     "text": [
      "100.00%\n"
     ]
    }
   ],
   "source": [
    "model.accuracy(pred, test_labels)"
   ]
  }
 ],
 "metadata": {
  "kernelspec": {
   "display_name": "Python 3",
   "language": "python",
   "name": "python3"
  },
  "language_info": {
   "codemirror_mode": {
    "name": "ipython",
    "version": 3
   },
   "file_extension": ".py",
   "mimetype": "text/x-python",
   "name": "python",
   "nbconvert_exporter": "python",
   "pygments_lexer": "ipython3",
   "version": "3.7.6"
  }
 },
 "nbformat": 4,
 "nbformat_minor": 4
}

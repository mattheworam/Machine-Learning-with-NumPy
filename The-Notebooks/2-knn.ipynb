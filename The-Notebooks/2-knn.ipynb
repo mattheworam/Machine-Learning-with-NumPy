{
 "cells": [
  {
   "cell_type": "markdown",
   "metadata": {},
   "source": [
    "## 2. K-Nearest Neighbors algorithm implemented in NumPy\n",
    "The following code contains a kNN class and a demonstration on a simple generated dataset"
   ]
  },
  {
   "cell_type": "code",
   "execution_count": 1,
   "metadata": {},
   "outputs": [],
   "source": [
    "import numpy as np\n",
    "import pandas as pd\n",
    "import matplotlib.pyplot as plt\n",
    "from scipy.stats import mode"
   ]
  },
  {
   "cell_type": "code",
   "execution_count": 2,
   "metadata": {},
   "outputs": [],
   "source": [
    "class Knn():\n",
    "\n",
    "    def __init__(self, training_data, labels):\n",
    "        \"\"\"accepts an numpy array or training data and an array of integer labels\"\"\"\n",
    "        self.training_data = training_data\n",
    "        self.labels = labels\n",
    "\n",
    "    def predict(self, test_data, k=3, p=2):\n",
    "        \"\"\"returns an array of class and probability for each data point, \n",
    "        accepts np array of data without labels\"\"\"\n",
    "\n",
    "        results = []\n",
    "        \n",
    "        #for multple test points\n",
    "        if test_data.ndim > 1:\n",
    "            for td in test_data:\n",
    "                \n",
    "                #calculate distance of test data point from every training data point\n",
    "                dist = ((abs(td - self.training_data) ** p).sum(axis=1))**(1/p)\n",
    "                \n",
    "                #find knn and get their corresponding labels\n",
    "                index = np.argsort(dist)\n",
    "                knn = self.labels[(index)][:k]\n",
    "                \n",
    "                #get test point predicted label and probability\n",
    "                result = mode(knn)\n",
    "                prob = float(\"{:.2f}\".format(int(result[1]) / k))\n",
    "                results.append((int(result[0]), prob))\n",
    "        \n",
    "        #for single test point\n",
    "        else:                       \n",
    "            dist = ((abs(td - self.training_data) ** p).sum(axis=1))**(1/p)\n",
    "            index = np.argsort(dist)\n",
    "            knn = self.labels[(index)][:k]\n",
    "            result = mode(knn)\n",
    "            prob = float(\"{:.2f}\".format(int(result[1]) / k))\n",
    "            results.append((int(result[0]), prob))\n",
    "\n",
    "        return np.array(results)\n",
    "    \n",
    "    def show_2dboundary(self):\n",
    "        \"\"\"for 2d data, produces contour plots of decision boundary\"\"\"\n",
    "        \n",
    "        #create meshgrid that covers data plot area\n",
    "        x1 = min(self.training_data[:, 0]) - 1\n",
    "        x2 = max(self.training_data[:, 0]) + 1\n",
    "        y1 = min(self.training_data[:, 1]) - 1\n",
    "        y2 = max(self.training_data[:, 1]) + 1\n",
    "        n = 100\n",
    "        xx, yy = np.meshgrid(np.linspace(x1, x2, n), np.linspace(y1, y2, n))\n",
    "        \n",
    "        #put meshgrid in format that the model accepts\n",
    "        stack = np.vstack((np.ravel(xx), np.ravel(yy))).T\n",
    "        \n",
    "        #calculate classes for meshgrid points for contour z values\n",
    "        mesh = self.predict(stack)\n",
    "        z = mesh[:, 0]\n",
    "        z = np.array(np.split(z, n))\n",
    "        \n",
    "        #plot filled contour of class boundaries ax[0] and decision boundary contour with data points ax[1]\n",
    "        fig, ax = plt.subplots(1, 2, figsize=(15, 5))\n",
    "        ax[0].contourf(xx, yy, z, [-1, 0.5, 2], colors=['b', 'orange'])\n",
    "        ax[1].contour(xx, yy, z, [0.5])\n",
    "        \n",
    "        data0 = self.training_data[self.labels == 0]\n",
    "        data1 = self.training_data[self.labels == 1]\n",
    "        ax[1].scatter(data0[:, 0], data0[:, 1], label='0')\n",
    "        ax[1].scatter(data1[:, 0], data1[:, 1], label='1')\n",
    "        \n",
    "        ax[0].set_xlabel('x1')\n",
    "        ax[0].set_ylabel('x2')\n",
    "        ax[1].set_xlabel('x1')\n",
    "        ax[1].set_ylabel('x2')\n",
    "        plt.legend()\n",
    "        return plt.show()"
   ]
  },
  {
   "cell_type": "markdown",
   "metadata": {},
   "source": [
    "# test"
   ]
  },
  {
   "cell_type": "code",
   "execution_count": 3,
   "metadata": {},
   "outputs": [],
   "source": [
    "from sklearn.datasets import make_moons"
   ]
  },
  {
   "cell_type": "code",
   "execution_count": 4,
   "metadata": {},
   "outputs": [],
   "source": [
    "X2, yy2 = make_moons(n_samples=100, noise=0.2, random_state=10)\n",
    "X, yy = make_moons(n_samples=100, noise=0.1, random_state=10)"
   ]
  },
  {
   "cell_type": "code",
   "execution_count": 5,
   "metadata": {},
   "outputs": [],
   "source": [
    "model = Knn(X, yy)"
   ]
  },
  {
   "cell_type": "code",
   "execution_count": 6,
   "metadata": {},
   "outputs": [],
   "source": [
    "preds = model.predict(X)"
   ]
  },
  {
   "cell_type": "code",
   "execution_count": 7,
   "metadata": {},
   "outputs": [
    {
     "data": {
      "text/plain": [
       "100"
      ]
     },
     "execution_count": 7,
     "metadata": {},
     "output_type": "execute_result"
    }
   ],
   "source": [
    "sum(preds[:, 0] == yy)"
   ]
  },
  {
   "cell_type": "code",
   "execution_count": 8,
   "metadata": {},
   "outputs": [
    {
     "data": {
      "image/png": "[encoded data removed]",
      "text/plain": [
       "<Figure size 1080x360 with 2 Axes>"
      ]
     },
     "metadata": {
      "needs_background": "light"
     },
     "output_type": "display_data"
    }
   ],
   "source": [
    "model.show_2dboundary()"
   ]
  }
 ],
 "metadata": {
  "kernelspec": {
   "display_name": "Python 3",
   "language": "python",
   "name": "python3"
  },
  "language_info": {
   "codemirror_mode": {
    "name": "ipython",
    "version": 3
   },
   "file_extension": ".py",
   "mimetype": "text/x-python",
   "name": "python",
   "nbconvert_exporter": "python",
   "pygments_lexer": "ipython3",
   "version": "3.7.6"
  }
 },
 "nbformat": 4,
 "nbformat_minor": 4
}
